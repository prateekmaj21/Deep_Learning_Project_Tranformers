{
  "nbformat": 4,
  "nbformat_minor": 0,
  "metadata": {
    "colab": {
      "provenance": []
    },
    "kernelspec": {
      "name": "python3",
      "display_name": "Python 3"
    },
    "language_info": {
      "name": "python"
    }
  },
  "cells": [
    {
      "cell_type": "markdown",
      "source": [
        "# Transformers: A review and use in Text Analytics, Topic Modelling and Summarization."
      ],
      "metadata": {
        "id": "S5YI83rm27Nl"
      }
    },
    {
      "cell_type": "code",
      "execution_count": 10,
      "metadata": {
        "id": "OQCqlF5m2Y4x"
      },
      "outputs": [],
      "source": [
        "import pandas as pd\n",
        "import matplotlib.pyplot as plt\n",
        "from sentence_transformers import SentenceTransformer, SimilarityFunction\n",
        "import torch"
      ]
    },
    {
      "cell_type": "code",
      "source": [
        "from transformers import pipeline"
      ],
      "metadata": {
        "id": "_phtIxeIXhUB"
      },
      "execution_count": 11,
      "outputs": []
    },
    {
      "cell_type": "markdown",
      "source": [
        "# BART trained on the MultiNLI (MNLI) dataset"
      ],
      "metadata": {
        "id": "8vcIKBsD3TRd"
      }
    },
    {
      "cell_type": "markdown",
      "source": [
        "# Topic Modeling with Zero-Shot Classification\n",
        "\n",
        "\n",
        "1. **Import Libraries:** Necessary libraries like pandas, matplotlib, sentence transformers, torch, and transformers are imported.\n",
        "\n",
        "2. **Zero-Shot Classifier:** A zero-shot classification pipeline is initialized using the `facebook/bart-large-mnli` model. This model is capable of classifying text into predefined categories without any prior training on those categories.\n",
        "\n",
        "3. **Candidate Labels:** A list of potential topics (candidate labels) is defined: \"Politics\", \"Sport\", \"Technology\", \"Entertainment\", and \"Business\".\n",
        "\n",
        "4. **Input Sequence:**  The text to be classified is provided.  This text discusses the Samsung Galaxy S25 Ultra and its connection to Galaxy AI.\n",
        "\n",
        "5. **Classification:** The zero-shot classifier processes the input text and compares it to the provided candidate labels. It assigns probabilities (scores) to each label representing the likelihood of the text belonging to that topic.\n",
        "\n",
        "6. **Output:** The results are displayed, showing each candidate label and its corresponding probability score.  The label with the highest probability is the predicted topic for the given input text.  The example text would most likely be classified as \"Technology\" due to its subject matter.\n",
        "\n",
        "7. **Key Concept: Zero-Shot Learning:** The core of this approach is zero-shot learning. The model doesn't require explicit training data for each topic. Instead, it leverages its pre-trained knowledge to understand the relationship between the input text and the provided labels.\n",
        "\n",
        "8. **No Training Data:** Importantly, no training data specific to these topics is used.  The model's general language understanding allows it to infer the most probable topic based on the input text and the provided labels."
      ],
      "metadata": {
        "id": "BqSKyw7QKd1A"
      }
    },
    {
      "cell_type": "code",
      "source": [
        "from transformers import pipeline\n",
        "classifier = pipeline(\"zero-shot-classification\",\n",
        "                      model=\"facebook/bart-large-mnli\")"
      ],
      "metadata": {
        "colab": {
          "base_uri": "https://localhost:8080/"
        },
        "id": "xcSK_W9b26mL",
        "outputId": "9fbac234-5d78-426e-a0fd-96631aaf9e68"
      },
      "execution_count": 12,
      "outputs": [
        {
          "output_type": "stream",
          "name": "stderr",
          "text": [
            "Device set to use cpu\n"
          ]
        }
      ]
    },
    {
      "cell_type": "code",
      "source": [
        "candidate_labels = [\"Politics\", \"Sport\", \"Technology\", \"Entertainment\", \"Business\"]"
      ],
      "metadata": {
        "id": "6D7VUWzZ3Wup"
      },
      "execution_count": 13,
      "outputs": []
    },
    {
      "cell_type": "code",
      "source": [
        "sequence_to_classify  = \"\"\"The Samsung Galaxy S25 Ultra will be the flagship handset for the company's Galaxy AI software. Following the launch at the upcoming Galaxy Unpacked event, the S25 family, including the powerful Galaxy S25 Ultra, will be the basis for the development and growth of Galaxy AI through 2025 and beyond.\n",
        "It’s an opportunity for Samsung to take the initiative and determine the future of mobile artificial intelligence.\n",
        "Although Google used the launch of the Pixel 8 and Pixel 8 Pro in October 2023 as the signal to start the AI-powered smartphone revolution, Samsung’s simultaneous launch of the Galaxy S24 family and the introduction of Galaxy AI brought AI to the mainstream consumer. Kantar Research cited AI as a driving force behind sales in 2024, with nearly 1 in 4 consumers purchasing a Galaxy S24 handset on the strength of AI.\n",
        "\"\"\""
      ],
      "metadata": {
        "id": "OumAuki_4yPD"
      },
      "execution_count": 14,
      "outputs": []
    },
    {
      "cell_type": "code",
      "source": [
        "result = classifier(sequence_to_classify, candidate_labels, multi_label=False)\n",
        "\n",
        "# Print the result in the desired format\n",
        "for label, score in zip(result['labels'], result['scores']):\n",
        "  print(f\"{label}: {score:.2f}\")"
      ],
      "metadata": {
        "colab": {
          "base_uri": "https://localhost:8080/"
        },
        "id": "dNlv2yDi40TT",
        "outputId": "f6d2f30a-7884-47ab-b1a5-399a58b8f948"
      },
      "execution_count": 15,
      "outputs": [
        {
          "output_type": "stream",
          "name": "stdout",
          "text": [
            "Technology: 0.51\n",
            "Business: 0.20\n",
            "Sport: 0.13\n",
            "Entertainment: 0.08\n",
            "Politics: 0.08\n"
          ]
        }
      ]
    },
    {
      "cell_type": "markdown",
      "source": [
        "# Text Summarization\n",
        "\n",
        "1. **Utilizes BART Model:** Employs the BART (Bidirectional and Auto-Regressive Transformers) model, specifically \"facebook/bart-large-xsum,\" which is pre-trained for extractive summarization tasks.  This model excels at condensing longer texts into shorter, coherent summaries while preserving key information.\n",
        "\n",
        "2. **Generates Concise Summaries:** The code uses the `summarizer` pipeline to process input text (`sequence_to_classify`) and generate a summary with a specified maximum and minimum length.  The `do_sample=False` argument ensures a deterministic output (always the same summary for the same input), which is useful for reproducibility."
      ],
      "metadata": {
        "id": "wy3o_uTKKu8W"
      }
    },
    {
      "cell_type": "code",
      "source": [
        "summarizer = pipeline(\"summarization\", model=\"facebook/bart-large-xsum\")\n",
        "\n",
        "summary = summarizer(sequence_to_classify, max_length=80, min_length=70, do_sample=False)"
      ],
      "metadata": {
        "colab": {
          "base_uri": "https://localhost:8080/"
        },
        "id": "4mjGP2a5XeHR",
        "outputId": "18fd249f-f482-49f0-ac88-5b1c5a4a0a73"
      },
      "execution_count": 17,
      "outputs": [
        {
          "output_type": "stream",
          "name": "stderr",
          "text": [
            "Device set to use cpu\n"
          ]
        }
      ]
    },
    {
      "cell_type": "code",
      "source": [
        "res=summary[0]['summary_text']"
      ],
      "metadata": {
        "id": "u5vX6KWMXitN"
      },
      "execution_count": 18,
      "outputs": []
    },
    {
      "cell_type": "code",
      "source": [
        "res"
      ],
      "metadata": {
        "colab": {
          "base_uri": "https://localhost:8080/",
          "height": 70
        },
        "id": "O5dUZYddX-VG",
        "outputId": "c19ca7c5-f13d-43ee-f4bc-68f890dc44b1"
      },
      "execution_count": 19,
      "outputs": [
        {
          "output_type": "execute_result",
          "data": {
            "text/plain": [
              "\"Samsung has announced the launch of the Galaxy S25 Ultra, the first smartphone to be powered by the company's Galaxy AI artificial intelligence (AI) operating system, in October 2018 and will be available in the US in January 2019, the South Korean firm has said in a press release, citing a report by research firm Kantar Research, which cited a study by Samsung.\""
            ],
            "application/vnd.google.colaboratory.intrinsic+json": {
              "type": "string"
            }
          },
          "metadata": {},
          "execution_count": 19
        }
      ]
    }
  ]
}