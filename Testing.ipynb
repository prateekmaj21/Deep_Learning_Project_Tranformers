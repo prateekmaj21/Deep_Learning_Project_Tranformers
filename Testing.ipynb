{
 "cells": [
  {
   "cell_type": "markdown",
   "id": "6d6facad-0ff3-4c3c-8a87-d172bf818071",
   "metadata": {},
   "source": [
    "## Use of the Fine-Tuned Model"
   ]
  },
  {
   "cell_type": "code",
   "execution_count": 1,
   "id": "1306f7f1-0bd6-4b3e-ae19-f52200300f5d",
   "metadata": {},
   "outputs": [],
   "source": [
    "from sklearn.preprocessing import LabelEncoder\n",
    "import pandas as pd\n",
    "from sklearn.model_selection import train_test_split\n",
    "from transformers import BartTokenizer\n",
    "import torch\n",
    "import warnings\n",
    "warnings.filterwarnings('ignore')"
   ]
  },
  {
   "cell_type": "code",
   "execution_count": 2,
   "id": "4997bfc3-6992-4a3e-b90e-60918fba0730",
   "metadata": {},
   "outputs": [
    {
     "name": "stderr",
     "output_type": "stream",
     "text": [
      "You passed along `num_labels=3` with an incompatible id to label map: {'0': 'LABEL_0', '1': 'LABEL_1', '2': 'LABEL_2', '3': 'LABEL_3', '4': 'LABEL_4'}. The number of labels wil be overwritten to 5.\n"
     ]
    },
    {
     "name": "stdout",
     "output_type": "stream",
     "text": [
      "WARNING:tensorflow:From C:\\Users\\PRATEEK\\AppData\\Roaming\\Python\\Python312\\site-packages\\tf_keras\\src\\losses.py:2976: The name tf.losses.sparse_softmax_cross_entropy is deprecated. Please use tf.compat.v1.losses.sparse_softmax_cross_entropy instead.\n",
      "\n"
     ]
    },
    {
     "name": "stderr",
     "output_type": "stream",
     "text": [
      "You passed along `num_labels=3` with an incompatible id to label map: {'0': 'LABEL_0', '1': 'LABEL_1', '2': 'LABEL_2', '3': 'LABEL_3', '4': 'LABEL_4'}. The number of labels wil be overwritten to 5.\n",
      "Failed to determine 'entailment' label id from the label2id mapping in the model config. Setting to -1. Define a descriptive label2id mapping in the model config to ensure correct outputs.\n"
     ]
    }
   ],
   "source": [
    "from transformers import pipeline\n",
    "# Load fine-tuned model\n",
    "classifier = pipeline(\"zero-shot-classification\", model=\"./fine_tuned_bart\")"
   ]
  },
  {
   "cell_type": "code",
   "execution_count": 3,
   "id": "837c49cf-0a27-4f76-b1ce-8d7260bfbde4",
   "metadata": {},
   "outputs": [],
   "source": [
    "candidate_labels = [\"Politics\", \"Sport\", \"Technology\", \"Entertainment\", \"Business\"]"
   ]
  },
  {
   "cell_type": "code",
   "execution_count": 4,
   "id": "4f5535d6-ff29-4cf4-a0cc-381fa9d11843",
   "metadata": {},
   "outputs": [],
   "source": [
    "sequence_to_classify  = \"\"\"The Samsung Galaxy S25 Ultra will be the flagship handset for the company's Galaxy AI software. \"\"\""
   ]
  },
  {
   "cell_type": "code",
   "execution_count": 5,
   "id": "167f78e4-86d1-4470-8934-97a01885d5f9",
   "metadata": {},
   "outputs": [
    {
     "name": "stderr",
     "output_type": "stream",
     "text": [
      "Asking to truncate to max_length but no maximum length is provided and the model has no predefined maximum length. Default to no truncation.\n"
     ]
    },
    {
     "name": "stdout",
     "output_type": "stream",
     "text": [
      "Technology: 0.23\n",
      "Entertainment: 0.21\n",
      "Business: 0.20\n",
      "Sport: 0.18\n",
      "Politics: 0.18\n"
     ]
    }
   ],
   "source": [
    "result = classifier(sequence_to_classify, candidate_labels, multi_label=False)\n",
    "# Print the result in the desired format\n",
    "for label, score in zip(result['labels'], result['scores']):\n",
    "  print(f\"{label}: {score:.2f}\")"
   ]
  }
 ],
 "metadata": {
  "kernelspec": {
   "display_name": "Python 3 (ipykernel)",
   "language": "python",
   "name": "python3"
  },
  "language_info": {
   "codemirror_mode": {
    "name": "ipython",
    "version": 3
   },
   "file_extension": ".py",
   "mimetype": "text/x-python",
   "name": "python",
   "nbconvert_exporter": "python",
   "pygments_lexer": "ipython3",
   "version": "3.12.7"
  }
 },
 "nbformat": 4,
 "nbformat_minor": 5
}
